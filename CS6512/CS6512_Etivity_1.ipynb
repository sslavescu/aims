{
 "cells": [
  {
   "cell_type": "markdown",
   "id": "b8e5ed62",
   "metadata": {},
   "source": [
    "<div>\n",
    "<img src=\"https://drive.google.com/uc?export=view&id=1vK33e_EqaHgBHcbRV_m38hx6IkG0blK_\" width=\"350\"/>\n",
    "</div> \n",
    "\n",
    "# Artificial Intelligence - MSc\n",
    "\n",
    "## CS6512 - AI & Data Science Ecosystems - Theory and Practice\n",
    "## SEM2 2022/3\n",
    "\n",
    "### CS6512 Etivity 1 - Linear and Nonlinear Programming\n",
    "\n",
    "### Instructor: Emil Vassev\n",
    "March 27th, 2023\n",
    "<br><br>\n",
    "Copyright (C) 2023 - All rights reserved, do not copy or distribute without permission of the author.\n",
    "***"
   ]
  },
  {
   "cell_type": "markdown",
   "id": "6c2603d7",
   "metadata": {},
   "source": [
    "## Submission Info\n",
    "### Student Name: Sorin\n",
    "### Student Surname: Slavescu\n",
    "### Student ID: 21185131\n",
    "### Date of Final Submission: 16.04.2023\n",
    "***"
   ]
  },
  {
   "cell_type": "markdown",
   "id": "a2b8d751",
   "metadata": {},
   "source": [
    "## Task\n",
    "In this e-tivity, you are asked to determine the components of a linear/non-linear programming problem, and then to implement in Python a program that will solve that problem by using the <b>scipy.optimize</b> library. Please, consult the lectures of Week #10 for more details on how we determine the components of a linear/non-linear programming problem and also, how we implement linear/non-linear programs in Python. The program you are going to implement is based on a real-life scenario, which is invented by the author of this assignment and thus, the numbers provided are fictive.\n",
    "## The real-life scenario\n",
    "Mazda Motor Corporation produces three models of its CX series: Mazda CX-3, Mazda CX-5, and Mazda CX-9 (for simplicity, in this scenario we ignore the new models like CX-30, CX-50, etc.). Market projections indicate an expected monthly demand of at least: 3500 cars of the CX-3 model, 5000 cars of the CX-5 model, and 2100 cars of the CX-9 model.  Due to insufficient production capacity, no more than 4000 cars can be made of model CX-3, no more than 7000 cars can be made of model CX-5, and no more than 2500 cars can be made of model CX-9. Due to existing contracts with car dealers worldwide, a total of at least 12000 cars must be produced each month. Here is the financial result calculated as production costs – selling costs per model: \n",
    "<li>CX-3: EUR 3400 profit</li> \n",
    "<li>CX-5: EUR 2500 loss</li>\n",
    "<li>CX-9: EUR 7200 profit</li>\n",
    "<br>\n",
    "How many cars of each Mazda CX model should be produced monthly, so to maximize the total net profit?  \n",
    "<br><br>\n",
    "<span style=\"color:blue\">The author of this assignment drives Mazda CX-5, 2021, and he loves it! He is convinced this car is undervalued. :)</span>"
   ]
  },
  {
   "cell_type": "markdown",
   "id": "903e119a",
   "metadata": {},
   "source": [
    "## Here are the steps you need to follow:"
   ]
  },
  {
   "cell_type": "markdown",
   "id": "a2788722",
   "metadata": {},
   "source": [
    "## Step 1: Determine the programming problem: linear or non-linear.  (5%)"
   ]
  },
  {
   "cell_type": "markdown",
   "id": "b7ad3798",
   "metadata": {},
   "source": [
    "#### Given that the Objective function is a linear one and the constraints are linear I think it makes sense to apply the linear programming approach."
   ]
  },
  {
   "cell_type": "markdown",
   "id": "6b20db4c",
   "metadata": {},
   "source": [
    "## Step 2: Define the components of the LPP/NLPP tuple  <D, f, Fc , C, Cn, R, Tc>. (45%)"
   ]
  },
  {
   "cell_type": "markdown",
   "id": "ab29788f",
   "metadata": {},
   "source": [
    "### Step 2.1: D - Decision Variables (5%)"
   ]
  },
  {
   "cell_type": "markdown",
   "id": "dc9249ff",
   "metadata": {},
   "source": [
    "x1 - number of CX3 cars\n",
    "\n",
    "x2 - number of CX5 cars\n",
    "\n",
    "x3 - number of CX9 cars\n",
    "\n",
    "D={x1, x2, x3}"
   ]
  },
  {
   "cell_type": "markdown",
   "id": "ee5b9a4b",
   "metadata": {},
   "source": [
    "### Step 2.2: f - Objective Function (20%)"
   ]
  },
  {
   "cell_type": "markdown",
   "id": "273fa454",
   "metadata": {},
   "source": [
    "Objective function\n",
    "max(f) = max( 3400 * x1 - 2500 * x2 + 7200 * x3 )"
   ]
  },
  {
   "cell_type": "markdown",
   "id": "c0ecd215",
   "metadata": {},
   "source": [
    "### Step 2.3: Fc - Objective Function Coefficients (3%)"
   ]
  },
  {
   "cell_type": "markdown",
   "id": "733c086d",
   "metadata": {},
   "source": [
    "Fc = {3400:x1, 2500:x2, 7200:x3}"
   ]
  },
  {
   "cell_type": "markdown",
   "id": "c4a839dc",
   "metadata": {},
   "source": [
    "### Step 2.4: C - Constraints (10%)"
   ]
  },
  {
   "cell_type": "markdown",
   "id": "19930204",
   "metadata": {},
   "source": [
    "C = {x1 + x2 + x3 >= 12000,\n",
    "    \n",
    "    x1 <= 4000,\n",
    "    \n",
    "    x2 <= 7000,\n",
    "    \n",
    "    x3 <= 2500}"
   ]
  },
  {
   "cell_type": "markdown",
   "id": "69acd9ae",
   "metadata": {},
   "source": [
    "### Step 2.5: Cn – Non-negative Constraints (3%) "
   ]
  },
  {
   "cell_type": "markdown",
   "id": "532900c7",
   "metadata": {},
   "source": [
    "Cn = {\n",
    "    3500 <= x1,\n",
    "    \n",
    "    5000 <= x2,\n",
    "    \n",
    "    2100 <= x3}"
   ]
  },
  {
   "cell_type": "markdown",
   "id": "d484e3ed",
   "metadata": {},
   "source": [
    "### Step 2.6: R – Resource Availability (2%)"
   ]
  },
  {
   "cell_type": "markdown",
   "id": "8a422b58",
   "metadata": {},
   "source": [
    "R = {12000, 4000, 7000, 2500}"
   ]
  },
  {
   "cell_type": "markdown",
   "id": "74d4adbf",
   "metadata": {},
   "source": [
    "### Step 2.7: Tc – Technological Coefficients (2%)"
   ]
  },
  {
   "cell_type": "markdown",
   "id": "ef778b33",
   "metadata": {},
   "source": [
    "Tc = {1, 1, 1} or maybe no technology coefficients just the fact that the objective function is maximisation"
   ]
  },
  {
   "cell_type": "markdown",
   "id": "e9de73a9",
   "metadata": {},
   "source": [
    "## Step 3: Implement the LPP/NLPP in Python by using scipy.optimize as shown in the lectures. (50%) "
   ]
  },
  {
   "cell_type": "markdown",
   "id": "d4e74f18",
   "metadata": {},
   "source": [
    "Use the <b>scipy.optimize</b> library to implement a program that will solve the linear/non-linear programming problem specified in Step 2. "
   ]
  },
  {
   "cell_type": "markdown",
   "id": "611d5785",
   "metadata": {},
   "source": [
    "In order to adapt the extracted function, parameters and constraints to linprog I'm going to recap them below:\n",
    "\n",
    "max of 3400 * x1 - 2500 * x2 + 7200 * x3\n",
    "\n",
    "such that:\n",
    "\n",
    "3500 <= x1 <= 4000\n",
    "\n",
    "5000 <= x2 <= 7000\n",
    "\n",
    "2100 <= x3 <= 2500\n",
    "\n",
    "x1 + x2 + x3 >= 12000"
   ]
  },
  {
   "cell_type": "markdown",
   "id": "bd3ae2ef",
   "metadata": {},
   "source": [
    "### Step 3.1: Implement the programming model. (40%)"
   ]
  },
  {
   "cell_type": "code",
   "execution_count": 9,
   "id": "c350d2fb",
   "metadata": {},
   "outputs": [],
   "source": [
    "from scipy.optimize import linprog\n",
    "\n",
    "# Objective function coefficients must be negative as optimize minimises the objectuve function \n",
    "# rather than maximising \n",
    "c = [-3400, 2500, -7200]\n",
    "\n",
    "# change the >= to <= for A_ub\n",
    "# x1 >= 3500 becomes -1*x1 + 0*x2 + 0*x3 <= 3500 and so on\n",
    "# x1 <= 4000 is considered as 1*x1 + 0*x2 + 0*x3 <= 4000 and so on for the other xs\n",
    "# I have tried the bounds option too but I think the approach above is more inline with the \n",
    "# implementation's expectations\n",
    "A = [[-1, -1, -1], [-1,0,0], [0,-1,0], [0,0,-1], [1,0,0], [0,1,0], [0,0,1]]\n",
    "b = [-12000, -3500, -5000, -2100, 4000, 7000, 2500]\n",
    "#x1_bounds = (3500, 4000)\n",
    "#x2_bounds = (5000, 7000)\n",
    "#x3_bounds = (2100, 2500)"
   ]
  },
  {
   "cell_type": "markdown",
   "id": "9fc20d41",
   "metadata": {},
   "source": [
    "### Step 3.2: Execute the programming model. (8%)"
   ]
  },
  {
   "cell_type": "code",
   "execution_count": 10,
   "id": "b4241adf",
   "metadata": {},
   "outputs": [
    {
     "data": {
      "text/plain": [
       "-17850000.0"
      ]
     },
     "execution_count": 10,
     "metadata": {},
     "output_type": "execute_result"
    }
   ],
   "source": [
    "res = linprog(c, A_ub=A, b_ub=b) #, bounds=[x1_bounds, x2_bounds, x3_bounds])\n",
    "res.fun"
   ]
  },
  {
   "cell_type": "markdown",
   "id": "b6b85948",
   "metadata": {},
   "source": [
    "### Step 3.3: Show the result of your program's execution. (2%)"
   ]
  },
  {
   "cell_type": "code",
   "execution_count": 11,
   "id": "9c60a865",
   "metadata": {},
   "outputs": [],
   "source": [
    "#print(res)"
   ]
  },
  {
   "cell_type": "code",
   "execution_count": 12,
   "id": "06d1fd98",
   "metadata": {},
   "outputs": [
    {
     "name": "stdout",
     "output_type": "stream",
     "text": [
      "Optimal profit is  17850000\n",
      "Optimal solution:\n",
      "Production of Mazda CX-3 should be 4000\n",
      "Production of Mazda CX-5 should be 5500\n",
      "Production of Mazda CX-9 should be 2500\n"
     ]
    }
   ],
   "source": [
    "print(\"Optimal profit is \", round(-res.fun))\n",
    "print(\"Optimal solution:\")\n",
    "print(\"Production of Mazda CX-3 should be\", round(res.x[0]))\n",
    "print(\"Production of Mazda CX-5 should be\", round(res.x[1]))\n",
    "print(\"Production of Mazda CX-9 should be\", round(res.x[2]))"
   ]
  },
  {
   "cell_type": "code",
   "execution_count": null,
   "id": "80d27781",
   "metadata": {},
   "outputs": [],
   "source": []
  }
 ],
 "metadata": {
  "kernelspec": {
   "display_name": "Python 3 (ipykernel)",
   "language": "python",
   "name": "python3"
  },
  "language_info": {
   "codemirror_mode": {
    "name": "ipython",
    "version": 3
   },
   "file_extension": ".py",
   "mimetype": "text/x-python",
   "name": "python",
   "nbconvert_exporter": "python",
   "pygments_lexer": "ipython3",
   "version": "3.10.9"
  }
 },
 "nbformat": 4,
 "nbformat_minor": 5
}
